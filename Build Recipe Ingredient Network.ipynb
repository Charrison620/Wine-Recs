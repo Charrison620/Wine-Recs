{
 "cells": [
  {
   "cell_type": "code",
   "execution_count": 4,
   "metadata": {},
   "outputs": [],
   "source": [
    "import json\n",
    "import numpy as np\n",
    "import networkx as nx\n",
    "\n",
    "\n",
    "with open('Recipes.json', 'r') as f:\n",
    "    recipes = json.load(f)\n",
    "    \n",
    "#recipes[:5]"
   ]
  },
  {
   "cell_type": "code",
   "execution_count": 5,
   "metadata": {},
   "outputs": [
    {
     "name": "stdout",
     "output_type": "stream",
     "text": [
      "(6714, 6714)\n"
     ]
    }
   ],
   "source": [
    "recipe_list = [i[\"ingredients\"] for i in recipes] # adding ingredients from recipes into recipe list\n",
    "ingredient_set = list(set([element for row in recipe_list for element in row])) # adding element from recipe _list to ingredient set\n",
    "\n",
    "ingredient_pairs = []\n",
    "for ingredient in ingredient_set:\n",
    "    for recipe in recipe_list:\n",
    "        if ingredient in recipe:\n",
    "            ingredient_pairs.extend((ingredient, p) for p in recipe if ingredient != p) # extending the ingredient_pairs\n",
    "            \n",
    "#ingredient_pairs[:10]\n",
    "\n",
    "G = nx.Graph()# creating graph\n",
    "G.add_nodes_from(ingredient_set) \n",
    "G.add_edges_from(ingredient_pairs)\n",
    "print(nx.to_numpy_matrix(G).shape)"
   ]
  },
  {
   "cell_type": "code",
   "execution_count": 6,
   "metadata": {},
   "outputs": [],
   "source": [
    "nx.write_graphml(G,'recipe_network.gz', encoding = 'utf-8') # writing file recipe_network "
   ]
  },
  {
   "cell_type": "code",
   "execution_count": null,
   "metadata": {},
   "outputs": [],
   "source": []
  }
 ],
 "metadata": {
  "kernelspec": {
   "display_name": "Python 3",
   "language": "python",
   "name": "python3"
  },
  "language_info": {
   "codemirror_mode": {
    "name": "ipython",
    "version": 3
   },
   "file_extension": ".py",
   "mimetype": "text/x-python",
   "name": "python",
   "nbconvert_exporter": "python",
   "pygments_lexer": "ipython3",
   "version": "3.7.4"
  }
 },
 "nbformat": 4,
 "nbformat_minor": 2
}
